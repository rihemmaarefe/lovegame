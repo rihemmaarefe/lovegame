{
  "nbformat": 4,
  "nbformat_minor": 0,
  "metadata": {
    "colab": {
      "provenance": [],
      "authorship_tag": "ABX9TyORrm8FxnHzJf5TSPPWxEqF",
      "include_colab_link": true
    },
    "kernelspec": {
      "name": "python3",
      "display_name": "Python 3"
    },
    "language_info": {
      "name": "python"
    }
  },
  "cells": [
    {
      "cell_type": "markdown",
      "metadata": {
        "id": "view-in-github",
        "colab_type": "text"
      },
      "source": [
        "<a href=\"https://colab.research.google.com/github/rihemmaarefe/lovegame/blob/main/lovegame.ipynb\" target=\"_parent\"><img src=\"https://colab.research.google.com/assets/colab-badge.svg\" alt=\"Open In Colab\"/></a>"
      ]
    },
    {
      "cell_type": "code",
      "execution_count": null,
      "metadata": {
        "id": "ARkM1JF9a0Uk"
      },
      "outputs": [],
      "source": [
        "import time\n",
        "\n",
        "print(\"Welcome to Love Story!\")\n",
        "print(\"You are about to embark on a romantic adventure.\")\n",
        "print(\"Are you ready to start?\")\n",
        "\n",
        "ready = input(\"Yes or no? \")\n",
        "\n",
        "if ready.lower() != \"yes\":\n",
        "    print(\"Okay, come back when you're ready!\")\n",
        "    quit()\n",
        "\n",
        "print(\"Great! Let's begin.\")\n",
        "\n",
        "print(\"You are a college student named Alex, and you're in love with your best friend, Sam.\")\n",
        "print(\"You've been friends for years, but you've never been able to tell Sam how you feel.\")\n",
        "print(\"One day, you and Sam are hanging out in the park, and you finally decide to tell them how you feel.\")\n",
        "print(\"But before you can say anything, a group of strangers approaches you.\")\n",
        "\n",
        "time.sleep(2)\n",
        "\n",
        "print(\"Stranger 1: Hey, you two! We're having a scavenger hunt, and we need your help.\")\n",
        "print(\"Stranger 2: Our final item is a love letter. Can you write one for us?\")\n",
        "print(\"Stranger 3: We'll give you a prize if you can do it.\")\n",
        "\n",
        "print(\"What do you do?\")\n",
        "\n",
        "choice1 = input(\"Write the love letter or decline? \")\n",
        "\n",
        "if choice1.lower() == \"write the love letter\":\n",
        "    print(\"You write a beautiful love letter for the strangers, even though your heart is racing.\")\n",
        "    print(\"They thank you and give you a prize: a pair of tickets to a concert.\")\n",
        "    print(\"You and Sam go to the concert together and have a wonderful time.\")\n",
        "    print(\"At the end of the night, you finally confess your feelings to Sam.\")\n",
        "    print(\"Sam is surprised, but they say they feel the same way.\")\n",
        "    print(\"You kiss under the stars and start a romantic relationship.\")\n",
        "    print(\"Congratulations, you have found love!\")\n",
        "elif choice1.lower() == \"decline\":\n",
        "    print(\"You politely decline the strangers' request and continue on your walk with Sam.\")\n",
        "    print(\"You feel disappointed that you didn't get a chance to tell Sam how you feel.\")\n",
        "    print(\"But as you walk and talk with Sam, you realize that you don't need a scavenger hunt to express your love.\")\n",
        "    print(\"You take a deep breath and tell Sam how you feel.\")\n",
        "    print(\"Sam is surprised, but they say they feel the same way.\")\n",
        "    print(\"You kiss under the stars and start a romantic relationship.\")\n",
        "    print(\"Congratulations, you have found love!\")\n",
        "else:\n",
        "    print(\"Sorry, I didn't understand your choice. Please try again.\")\n",
        "\n",
        "print(\"Thanks for playing Love Story!\")\n"
      ]
    }
  ]
}